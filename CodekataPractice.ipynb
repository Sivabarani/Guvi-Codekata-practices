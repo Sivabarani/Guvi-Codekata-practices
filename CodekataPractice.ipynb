{
  "nbformat": 4,
  "nbformat_minor": 0,
  "metadata": {
    "colab": {
      "provenance": []
    },
    "kernelspec": {
      "name": "python3",
      "display_name": "Python 3"
    },
    "language_info": {
      "name": "python"
    }
  },
  "cells": [
    {
      "cell_type": "markdown",
      "source": [
        "# **String Codekata**"
      ],
      "metadata": {
        "id": "PqX61xsePe7h"
      }
    },
    {
      "cell_type": "code",
      "execution_count": null,
      "metadata": {
        "colab": {
          "base_uri": "https://localhost:8080/"
        },
        "id": "VHgpHUMnYe2H",
        "outputId": "9e66cf88-cf78-4d97-cdec-e9a87a1b383d"
      },
      "outputs": [
        {
          "output_type": "stream",
          "name": "stdout",
          "text": [
            "mississipie\n",
            "mpe\n"
          ]
        }
      ],
      "source": [
        "# Task 1\n",
        "\"\"\"Rahul is given a task to manipulate a string,\n",
        "He hired you as a developer your task is to delete all the repeating characters and print the result left.\n",
        "\n",
        "Input Description:\n",
        "You are given a string ‘s’\n",
        "\n",
        "Output Description:\n",
        "Print the remaining string\n",
        "\n",
        "Sample Input :\n",
        "mississipie\n",
        "Sample Output :\n",
        "mpe\"\"\"\n",
        "s = input()\n",
        "new = ''\n",
        "for i in s:\n",
        "    count = s.count(i)\n",
        "    if count == 1:\n",
        "        new = new + i\n",
        "print(new)"
      ]
    },
    {
      "cell_type": "code",
      "source": [
        "# Task 2\n",
        "\"\"\"Given a string S, print 'yes' if it has a vowel in it else print 'no'.\n",
        "Sample Testcase :\n",
        "INPUT\n",
        "codekata\n",
        "OUTPUT\n",
        "yes\n",
        "\"\"\"\n",
        "s = input()\n",
        "vowels = ['a', 'e', 'i', 'o', 'u']\n",
        "for i in vowels:\n",
        "    if i in s:\n",
        "        print(\"yes\")\n",
        "        break\n",
        "else:\n",
        "    print(\"no\")\n",
        "\n",
        "# Alternative approach\n",
        "s = input()\n",
        "vowels = {'a', 'e', 'i', 'o', 'u'}  # Use a set for faster lookup\n",
        "if any(vowel in s for vowel in vowels):\n",
        "    print(\"yes\")\n",
        "else:\n",
        "    print(\"no\")"
      ],
      "metadata": {
        "id": "ZtQD5s6JZCE2"
      },
      "execution_count": null,
      "outputs": []
    },
    {
      "cell_type": "code",
      "source": [
        "# Task 3\n",
        "\"\"\"You are given a number with duplicate digits your task is\n",
        "to remove the immediate duplicate digits and print the result\n",
        "\n",
        "Input Description:\n",
        "You are given a long string of digits\n",
        "\n",
        "Output Description:\n",
        "Print the desired result print -1 if result length is 0\n",
        "\n",
        "Sample Input :\n",
        "1331\n",
        "Sample Output :\n",
        "11\"\"\"\n",
        "n = input()\n",
        "\n",
        "for x in range(len(n)-1):\n",
        "  if x < len(n) and x > 0:\n",
        "    if n[x] == n[x+1] or n[x] == n[x-1]:\n",
        "      n = n.replace(n[x],'')\n",
        "\n",
        "if len(n) == 0:\n",
        "  print(\"-1\")\n",
        "else:\n",
        "  print(n)\n"
      ],
      "metadata": {
        "colab": {
          "base_uri": "https://localhost:8080/"
        },
        "id": "6Ssk8s0TZEmC",
        "outputId": "cb512439-05b5-4c3a-abdb-a292e57e4806"
      },
      "execution_count": null,
      "outputs": [
        {
          "output_type": "stream",
          "name": "stdout",
          "text": [
            "1331\n",
            "11\n"
          ]
        }
      ]
    },
    {
      "cell_type": "code",
      "source": [
        "# Task 4\n",
        "\"\"\"You are given a string. You have to print “Wonder” if the string is wonderful and -1 if it is not.\n",
        "A wonderful string is a string,which is made up of exactly 3 different characters.\n",
        "\n",
        "Input Description:\n",
        "You are given a string\n",
        "\n",
        "Output Description:\n",
        "Print “Wonder” if it is wonderful and -1 if it is not\n",
        "\n",
        "Sample Input :\n",
        "aabbcc\n",
        "Sample Output :\n",
        "Wonder\"\"\"\n",
        "s = input()\n",
        "if len(set(s)) == 3:\n",
        "    print(\"Wonder\")\n",
        "else:\n",
        "    print(\"-1\")"
      ],
      "metadata": {
        "colab": {
          "base_uri": "https://localhost:8080/"
        },
        "id": "z0U_rykCZxh8",
        "outputId": "03103fad-8adc-45d2-9486-455c2635e83a"
      },
      "execution_count": null,
      "outputs": [
        {
          "output_type": "stream",
          "name": "stdout",
          "text": [
            "aabbcc\n",
            "Wonder\n"
          ]
        }
      ]
    },
    {
      "cell_type": "markdown",
      "source": [
        "13-09-2024"
      ],
      "metadata": {
        "id": "ZgL_wxPsD4yh"
      }
    },
    {
      "cell_type": "code",
      "source": [
        "# Task 5 (revisit)\n",
        "\"\"\"Joyal was given a sentence.\n",
        "His task is to delete the two words that comes together and print the sentence\n",
        "so that the words in the output sentence have distinct words compared to their adjacent words.\n",
        "If no words are present in the output sentence print -1\n",
        "\n",
        "Input Description:\n",
        "You are given input string 'S'\n",
        "\n",
        "Output Description:\n",
        "Print the all the words that are left in the string 's'\n",
        "so that the words in the output sentence have distinct words compared to their adjacent words.\n",
        "Print -1 if no words are left\n",
        "\n",
        "Sample Input :\n",
        "I am john cena cena john\n",
        "Sample Output :\n",
        "I am\"\"\"\n",
        "s = input().split()\n",
        "list_1 = s.copy()\n",
        "for i in range(len(s)-1):\n",
        "  if i < len(s) or i > 0:\n",
        "    if s[i] == s[i+1]:\n",
        "      list_1.remove(s[i])\n",
        "      list_1.remove(s[i+1])\n",
        "\n",
        "list_2 = list_1.copy()\n",
        "for i in range(len(list_1)-1):\n",
        "  if i < len(list_1) or i > 0:\n",
        "    if list_1[i] == list_1[i+1]:\n",
        "      list_2.remove(list_1[i])\n",
        "      list_2.remove(list_1[i+1])\n",
        "if len(list_2) == 0:\n",
        "  print(\"-1\")\n",
        "else:\n",
        "  final = ' '.join(list_2)\n",
        "  print(final.strip())"
      ],
      "metadata": {
        "colab": {
          "base_uri": "https://localhost:8080/"
        },
        "id": "tiQgGzT_axLQ",
        "outputId": "43accc3e-613f-4af1-99ef-b4231bfb3952"
      },
      "execution_count": null,
      "outputs": [
        {
          "output_type": "stream",
          "name": "stdout",
          "text": [
            "We love we love\n"
          ]
        }
      ]
    },
    {
      "cell_type": "code",
      "source": [
        "# Task 6\n",
        "\"\"\"You are given a string.Your task is to print only the consonants present in the string\n",
        "without affecting the sentence spacings if present. If no consonants are present print -1\n",
        "\n",
        "Input Description:\n",
        "You are given a string ‘s’.\n",
        "\n",
        "Output Description:\n",
        "Print only consonants.\n",
        "\n",
        "Sample Input :\n",
        "I am shrey\n",
        "Sample Output :\n",
        " m shry\"\"\"\n",
        "s= input()\n",
        "new_string = ''\n",
        "for i in s:\n",
        "  if i not in 'aeiouAEIOU':\n",
        "    new_string = new_string + i\n",
        "\n",
        "if len(new_string) == 0:\n",
        "  print(\"-1\")\n",
        "else:\n",
        "  print(new_string)"
      ],
      "metadata": {
        "colab": {
          "base_uri": "https://localhost:8080/"
        },
        "id": "cFB6hYgyAjDO",
        "outputId": "370d9204-71a4-49f9-e0cc-7d06ecf1386b"
      },
      "execution_count": null,
      "outputs": [
        {
          "output_type": "stream",
          "name": "stdout",
          "text": [
            "-1\n"
          ]
        }
      ]
    },
    {
      "cell_type": "code",
      "source": [
        "#Task 7\n",
        "\"\"\"You are given two numbers. Your task is to multiply the two numbers and print the answer.\n",
        "\n",
        "Input Description:\n",
        "You are given two numbers ‘n’ and ‘m’.\n",
        "\n",
        "Output Description:\n",
        "Print the multiplied answer\n",
        "\n",
        "Sample Input :\n",
        "99999 99998\n",
        "Sample Output :\n",
        "9999700002\"\"\"\n",
        "n,m = map(int, input().split())\n",
        "print(n*m)"
      ],
      "metadata": {
        "colab": {
          "base_uri": "https://localhost:8080/"
        },
        "id": "QFBUbwroDTIx",
        "outputId": "7ec6050d-0f75-47af-d2c4-8f0be05a1caf"
      },
      "execution_count": null,
      "outputs": [
        {
          "output_type": "stream",
          "name": "stdout",
          "text": [
            "99999 99998\n",
            "9999700002\n"
          ]
        }
      ]
    },
    {
      "cell_type": "code",
      "source": [
        "# Task 8\n",
        "\"\"\"Given a string S, print it without using semicolon in your program.\n",
        "Sample Testcase :\n",
        "INPUT\n",
        "hello world\n",
        "OUTPUT\n",
        "hello world\"\"\"\n",
        "userInput = input()\n",
        "print(userInput)"
      ],
      "metadata": {
        "id": "WXp3zpXwD8He"
      },
      "execution_count": null,
      "outputs": []
    },
    {
      "cell_type": "markdown",
      "source": [
        "16-09-2024"
      ],
      "metadata": {
        "id": "KCZpORKEXHfH"
      }
    },
    {
      "cell_type": "code",
      "source": [
        "# Task 9\n",
        "\"\"\"Write a program to get a string S, Type of conversion\n",
        "(1 - Convert to Lowercase, 2 - Convert to Uppercase) T, and integer P .\n",
        "Convert the case of the letters in the positions which are multiples of P.(1 based indexing).\n",
        "\n",
        "Input Description:\n",
        "Given a string S, Type of conversion T, and integer P\n",
        "\n",
        "Output Description:\n",
        "Convert the case of the letters and print the string\n",
        "\n",
        "Sample Input :\n",
        "ProFiLe\n",
        "1\n",
        "2\n",
        "Sample Output :\n",
        "Profile\"\"\"\n",
        "\n",
        "s = input()\n",
        "t = int(input())\n",
        "p = int(input())\n",
        "i = 0\n",
        "\n",
        "while i < len(s):\n",
        "  if t == 1:\n",
        "    if (i+1) % p == 0:\n",
        "      print(s[i].lower(), end='')\n",
        "    else:\n",
        "      print(s[i], end='')\n",
        "  elif t == 2:\n",
        "    if (i+1) % p == 0:\n",
        "      print(s[i].upper(), end='')\n",
        "    else:\n",
        "      print(s[i], end='')\n",
        "\n",
        "  i = i + 1\n"
      ],
      "metadata": {
        "id": "E20oPJNwEkbx",
        "colab": {
          "base_uri": "https://localhost:8080/"
        },
        "outputId": "653e3329-cbdc-4cc6-bf58-767428c5974f"
      },
      "execution_count": null,
      "outputs": [
        {
          "output_type": "stream",
          "name": "stdout",
          "text": [
            "profile"
          ]
        }
      ]
    },
    {
      "cell_type": "code",
      "source": [
        "#Task 10 (revisit)\n",
        "\"\"\"you are given a string made up of parenthesis only.\n",
        "Your task is to check whether parenthesis are balanced or not.\n",
        "If they are balanced print 1 else print 0\n",
        "\n",
        "Input Description:\n",
        "You are given a string ‘s’\n",
        "\n",
        "Output Description:\n",
        "Print 1 for balanced and 0 for imbalanced\n",
        "\n",
        "Sample Input :\n",
        "{({})}\n",
        "Sample Output :\n",
        "1\"\"\"\n",
        "s = input()\n",
        "if len(s) % 2 == 0:\n",
        "  print(\"1\")\n",
        "else:\n",
        "  print(\"0\")"
      ],
      "metadata": {
        "colab": {
          "base_uri": "https://localhost:8080/"
        },
        "id": "1nPq4Pk430mA",
        "outputId": "8c855e9c-9d3f-42d2-fff7-1639697a1def"
      },
      "execution_count": null,
      "outputs": [
        {
          "output_type": "stream",
          "name": "stdout",
          "text": [
            "{{}}\n",
            "1\n"
          ]
        }
      ]
    },
    {
      "cell_type": "code",
      "source": [
        "# Task 11\n",
        "\"\"\"You are given with a string which comprises of some numbers.\n",
        "your task is to find the largest integer by converting the string to the corresponding integer.\n",
        "\n",
        "Input Description:\n",
        "First line contains n denoting number of Test Cases. The first and only Line of testcase has the string\n",
        "\n",
        "Output Description:\n",
        "Print the largest number\n",
        "\n",
        "Sample Input :\n",
        " I was born on 12 october 1998.\n",
        "Sample Output :\n",
        "1998\"\"\"\n",
        "s = input()\n",
        "result = ''.join(filter(lambda x: x.isalpha() or x.isdigit() or x.isspace(), s))\n",
        "print(result)\n",
        "digits = []\n",
        "for i in result.split():\n",
        "  if i.isdigit():\n",
        "    digits.append(int(i))\n",
        "\n",
        "print(max(digits))\n"
      ],
      "metadata": {
        "colab": {
          "base_uri": "https://localhost:8080/"
        },
        "id": "kUJBsbxP4oaW",
        "outputId": "92d28140-5a98-4a29-bedd-f04ce67fc6d9"
      },
      "execution_count": null,
      "outputs": [
        {
          "output_type": "stream",
          "name": "stdout",
          "text": [
            "haii 12 34 \n",
            "haii 12 34 \n",
            "34\n"
          ]
        }
      ]
    },
    {
      "cell_type": "code",
      "source": [
        "# task 12\n",
        "\"\"\" You are given a ‘true’ string.\n",
        " String is called true if weight of string is multiple of 8.\n",
        "  Your task is to tell whether a string can be declared True or Not.\n",
        "  Weight of string is the sum of ASCII value of Vowel character(s) present in the string.\n",
        "\n",
        "Input Description:\n",
        "You are given as string ‘s’ in lower cases\n",
        "\n",
        "Output Description:\n",
        "Print 1 for true and 0 for false\n",
        "\n",
        "Sample Input :\n",
        "raja\n",
        "Sample Output :\n",
        "0\"\"\"\n",
        "s = input()\n",
        "add = 0\n",
        "for i in s:\n",
        "    add += ord(i)\n",
        "\n",
        "print(\"1\" if add%8 == 0 else \"0\")\n"
      ],
      "metadata": {
        "colab": {
          "base_uri": "https://localhost:8080/"
        },
        "id": "wNujH1a68bgk",
        "outputId": "58b4eee7-1f50-4b18-f296-86c787343748"
      },
      "execution_count": null,
      "outputs": [
        {
          "output_type": "stream",
          "name": "stdout",
          "text": [
            "114\n",
            "97\n",
            "106\n",
            "97\n"
          ]
        }
      ]
    },
    {
      "cell_type": "code",
      "source": [
        "# Task 13\n",
        "\"\"\"You are given a paragraph.Your task is to print the words that come just after articles.\n",
        "\n",
        "Input Description:\n",
        "You are given a string ‘s’\n",
        "\n",
        "Output Description:\n",
        "print the words that come just after articles and -1 if there are no articles\n",
        "\n",
        "Sample Input :\n",
        "The sun rises in the east\n",
        "\n",
        "Sample Output :\n",
        "sun east\"\"\"\n",
        "s = input().split()\n",
        "print(type(s))\n",
        "articles = ['a', 'an', 'the']\n",
        "words = ''\n",
        "for i in range(len(s)-1):\n",
        "    if s[i].lower() in articles:\n",
        "        words = words + \" \" + s[i+1]\n",
        "\n",
        "print(words.strip())"
      ],
      "metadata": {
        "colab": {
          "base_uri": "https://localhost:8080/"
        },
        "id": "iuGjVtOG-wCo",
        "outputId": "a0e97899-40fc-428a-8caf-441464f0e01e"
      },
      "execution_count": null,
      "outputs": [
        {
          "output_type": "stream",
          "name": "stdout",
          "text": [
            "The sun rises in the east\n",
            "Sun east\n"
          ]
        }
      ]
    },
    {
      "cell_type": "code",
      "source": [
        "# task 14\n",
        "\"\"\"Given a string 'S' print the sum of weight of the String.\n",
        " A weight of character is defined as the ASCII value of corresponding character.\n",
        "\n",
        "Input Description:\n",
        "You are given a string ‘s’\n",
        "\n",
        "Output Description:\n",
        "Print weight\n",
        "\n",
        "Sample Input :\n",
        "abc\n",
        "Sample Output :\n",
        "294\"\"\"\n",
        "s= input()\n",
        "print(sum(ord(i) for i in s))"
      ],
      "metadata": {
        "id": "cBxzkyDNEB4U"
      },
      "execution_count": null,
      "outputs": []
    },
    {
      "cell_type": "code",
      "source": [
        "# Task 15\n",
        "\"\"\"You are given a string ‘s’.\n",
        "Your task is to print the string in the order they are present and then sum of digits.\n",
        "\n",
        "Input Description:\n",
        "You are given a string ‘s’.\n",
        "\n",
        "Output Description:\n",
        "Print the string and then at last sum of all the digits\n",
        "\n",
        "Sample Input :\n",
        "AC30BD40\n",
        "Sample Output :\n",
        "ACBD7\"\"\"\n",
        "\n",
        "s = input()\n",
        "digit = 0\n",
        "new_string = ''\n",
        "for i in s:\n",
        "    if i.isdigit():\n",
        "        digit += int(i)\n",
        "    else:\n",
        "        new_string += i\n",
        "\n",
        "print(new_string + str(digit))"
      ],
      "metadata": {
        "id": "3HVJrgnUFM9G"
      },
      "execution_count": null,
      "outputs": []
    },
    {
      "cell_type": "markdown",
      "source": [
        "17-09-2024"
      ],
      "metadata": {
        "id": "udNqzmxNXOQ-"
      }
    },
    {
      "cell_type": "code",
      "source": [
        "# Task 16 (will check)\n",
        "\"\"\"You are given string ‘s’. Your task is to modify the string as mentioned below:-\n",
        "1)The string should not have three consecutive same characters.\n",
        "2)You can add any number of characters anywhere in the string. Find the minimum number of characters which Ishaan must insert in the string.\n",
        "\n",
        "Input Description:\n",
        "You are given a string ‘s’\n",
        "\n",
        "Output Description:\n",
        "print the required answer in a new line.\n",
        "\n",
        "Sample Input :\n",
        "aabbbcc\n",
        "Sample Output :\n",
        "1\"\"\""
      ],
      "metadata": {
        "id": "ibtVKYisGyI9"
      },
      "execution_count": null,
      "outputs": []
    },
    {
      "cell_type": "code",
      "source": [
        "# Task 17\n",
        "\"\"\"Given a sentence and string S, find how many times S occurs in the given sentence.If S is not found in the sentence print -1\n",
        "Input Size : |sentence| <= 1000000(complexity O(n)).\n",
        "Sample Testcase :\n",
        "INPUT\n",
        "I enjoy doing codekata\n",
        "codekata\n",
        "OUTPUT\n",
        "1\"\"\"\n",
        "sentence = input()\n",
        "string = input()\n",
        "if sentence.count(string) == 0:\n",
        "  print(\"-1\")\n",
        "else:\n",
        "  print(sentence.count(string))"
      ],
      "metadata": {
        "colab": {
          "base_uri": "https://localhost:8080/"
        },
        "id": "h5Z8nT-EXviJ",
        "outputId": "cd510033-d056-4bf4-d37c-ea1a3068b5e1"
      },
      "execution_count": null,
      "outputs": [
        {
          "output_type": "stream",
          "name": "stdout",
          "text": [
            "haii\n",
            "shiva\n",
            "0\n"
          ]
        }
      ]
    },
    {
      "cell_type": "code",
      "source": [
        "# Task 18\n",
        "\"\"\"Radha newly learnt about palindromic strings.\n",
        "A palindromic string is a string which is same when read from left to right and also from right to left.\n",
        "Help her in implementing the logic.\n",
        "\n",
        "Input Description:\n",
        "You are given a String ‘s’\n",
        "\n",
        "Output Description:\n",
        "Print 1 if String is palindrome or 0 if not\n",
        "\n",
        "Sample Input :\n",
        "NITIN\n",
        "Sample Output :\n",
        "1\"\"\"\n",
        "s = input()\n",
        "if s == s[::-1]:\n",
        "  print(\"1\")\n",
        "else:\n",
        "  print(\"0\")"
      ],
      "metadata": {
        "colab": {
          "base_uri": "https://localhost:8080/"
        },
        "id": "1pU2NK2bYUXd",
        "outputId": "4c4f7714-5203-4f18-eff5-6b07f4a8b8f5"
      },
      "execution_count": null,
      "outputs": [
        {
          "output_type": "stream",
          "name": "stdout",
          "text": [
            "NITIN\n",
            "1\n"
          ]
        }
      ]
    },
    {
      "cell_type": "code",
      "source": [
        "# Task 19\n",
        "\"\"\"Ria is a 5 year old girl. Her mother wants to teach her how to sort words\n",
        "in the same order that they appear in a dictionary.\n",
        "She decides to write a program to sort a given set of strings based on their alphabetical order.\n",
        "Help Ria’s mother to complete the program.\n",
        "\n",
        "Input Description:\n",
        "A set of N strings\n",
        "\n",
        "Output Description:\n",
        "Alphabetically sorted set of strings\n",
        "\n",
        "Sample Input :\n",
        "3\n",
        "InfinityWar EndGame Avengers\n",
        "Sample Output :\n",
        "Avengers EndGame InfinityWar\"\"\"\n",
        "\n",
        "n = int(input())\n",
        "s = input().split()\n",
        "s.sort()\n",
        "print(' '.join(s).strip())\n"
      ],
      "metadata": {
        "colab": {
          "base_uri": "https://localhost:8080/"
        },
        "id": "isx1OAXGZRSc",
        "outputId": "f077c6a5-682b-4db2-aa15-1e0526576b2d"
      },
      "execution_count": null,
      "outputs": [
        {
          "output_type": "stream",
          "name": "stdout",
          "text": [
            "3\n",
            "InfinityWar EndGame Avengers\n",
            "Avengers EndGame InfinityWar\n"
          ]
        }
      ]
    },
    {
      "cell_type": "code",
      "source": [
        "# Task 20\n",
        "\"\"\"In XYZ country there is rule that car’s engine no.\n",
        "depends upon car’ number plate. Engine no is sum of all the integers present on car’s Number plate.\n",
        "The issuing authority has hired you in order to provide engine no. to the cars.\n",
        "Your task is to develop an algorithm which takes input as in form of string(Number plate) and gives back\n",
        "\n",
        "Engine number.\n",
        "\n",
        "Input Description:\n",
        "You are given a string ’s’\n",
        "\n",
        "Output Description:\n",
        "Print the engine number\n",
        "\n",
        "Sample Input :\n",
        "HR05-AA-2669\n",
        "Sample Output :\n",
        "28\"\"\"\n",
        "n = input()\n",
        "print(sum(int(i) for i in n if i.isdigit()))\n",
        "\n",
        "#my code\n",
        "n = input()\n",
        "engine_no = 0\n",
        "for i in n:\n",
        "    if i.isdigit():\n",
        "        engine_no += int(i)\n",
        "print(engine_no)"
      ],
      "metadata": {
        "colab": {
          "base_uri": "https://localhost:8080/"
        },
        "id": "NBzzpheSbUA8",
        "outputId": "258c106a-2fe5-4942-cb42-2f6908a868bb"
      },
      "execution_count": null,
      "outputs": [
        {
          "output_type": "stream",
          "name": "stdout",
          "text": [
            "HR05-AA-2669\n",
            "28\n"
          ]
        }
      ]
    },
    {
      "cell_type": "code",
      "source": [
        "# Task 21\n",
        "\"\"\"You are given a string ‘s’.\n",
        "Your task is to find whether string is beautiful or not.\n",
        "A string is said to be beautiful whenever string is made up of only three characters.\n",
        " All the three characters must be distinct. Print true if string is beautiful and false when it is not beautiful\n",
        "\n",
        "Input Description:\n",
        "You are given a string\n",
        "\n",
        "Output Description:\n",
        "Print ‘1’ when string is beautiful and ‘0’ when it is not\n",
        "\n",
        "Sample Input :\n",
        "Aab\n",
        "Sample Output :\n",
        "1\"\"\"\n",
        "s = input()\n",
        "if len(set(s)) == 3:\n",
        "  print(\"1\")\n",
        "else:\n",
        "  print(\"0\")\n",
        "\n",
        "# My idea\n",
        "s = input()\n",
        "flag = None\n",
        "for i in s:\n",
        "    if s.count(i) != 1:\n",
        "        flag = True\n",
        "if flag:\n",
        "    print(\"0\")\n",
        "else:\n",
        "    print(\"1\")"
      ],
      "metadata": {
        "id": "9EgToF5pcuj2"
      },
      "execution_count": null,
      "outputs": []
    },
    {
      "cell_type": "code",
      "source": [
        "# Task 22\n",
        "\"\"\"Indian PAN card issuing authority have found some fake PAN cards.\n",
        "They have hired you so that you can validate PAN card for them.\n",
        "Your task is to develop a suitable algorithm which could check if pan is valid or not\n",
        "\n",
        "1)Pan must have uppercase letters only.\n",
        "\n",
        "2)It must be of 10 character only\n",
        "\n",
        "3)From index 1 to 5 all must be letters(A-Z),last index must be letter\n",
        "\n",
        "4)Rest all must be integer Starting from 1\n",
        "\n",
        "Input Description:\n",
        "You are given a input string which indicates the PAN number\n",
        "\n",
        "Output Description:\n",
        "Print 'pan' if it is valid PAN number, else print 'not pan'\n",
        "\n",
        "Sample Input :\n",
        "HXTPS2142R\n",
        "Sample Output :\n",
        "pan\"\"\"\n",
        "s = input()\n",
        "if len(s) == 10 and s.isupper() and (s[0:5].isalpha() and s[-1].isalpha()) and s[-5:-1].isdigit() and '0' not in s[-5:-1]:\n",
        "    print(\"pan\")\n",
        "else:\n",
        "    print(\"not pan\")"
      ],
      "metadata": {
        "id": "c3Ozg2VQfsLg"
      },
      "execution_count": null,
      "outputs": []
    },
    {
      "cell_type": "code",
      "source": [
        "# task 23\n",
        "\"\"\"Given a string S, print 'yes' if it is a palindrome or 'no' if it is not a palindrome.\n",
        "Sample Testcase :\n",
        "INPUT\n",
        "lappal\n",
        "OUTPUT\n",
        "yes\"\"\"\n",
        "s = input()\n",
        "if s == s[::-1]:\n",
        "  print(\"yes\")\n",
        "else:\n",
        "  print(\"no\")"
      ],
      "metadata": {
        "id": "m3edxkzwjMhh"
      },
      "execution_count": null,
      "outputs": []
    },
    {
      "cell_type": "markdown",
      "source": [
        "18-09-2024"
      ],
      "metadata": {
        "id": "Eh6jUsJxVaQ7"
      }
    },
    {
      "cell_type": "code",
      "source": [
        "# Task 24\n",
        "\"\"\"Given a string S, find its length(including the spaces)without using any pre-defined functions.\n",
        "Sample Testcase :\n",
        "INPUT\n",
        "codekata\n",
        "OUTPUT\n",
        "8\"\"\"\n",
        "s = input()\n",
        "count = 0\n",
        "for _ in s:\n",
        "    count += 1\n",
        "print(count)"
      ],
      "metadata": {
        "id": "foEsgIv3Vb8C"
      },
      "execution_count": null,
      "outputs": []
    },
    {
      "cell_type": "code",
      "source": [
        "# Task 25 (Incomplete)\n",
        "\"\"\"Given a number ‘n’, your task is to  generate all n-bit grey code sequences,\n",
        "“a grey code sequence is a sequence such that successive patterns in it differ by one bit”\n",
        "\n",
        "Input Description:\n",
        "You are given an number ‘n’.\n",
        "\n",
        "Output Description:\n",
        "Print the grey code sequence\n",
        "\n",
        "Sample Input :\n",
        "2\n",
        "Sample Output :\n",
        "00 01 11 10\"\"\""
      ],
      "metadata": {
        "id": "Rlfqu0DGWRtl"
      },
      "execution_count": null,
      "outputs": []
    },
    {
      "cell_type": "code",
      "source": [
        "# Task 26\n",
        "\"\"\" Jennyfer is fond of strings. She wants to read the character from right to left (reverse the string), so she wants you to design a suitable algorithm which satisfy her desire.\n",
        "\n",
        "Input Description:\n",
        "Enter the string ‘s’\n",
        "\n",
        "Output Description:\n",
        "Print the string from characters right to left.\n",
        "\n",
        "Sample Input :\n",
        "jennyfer\n",
        "Sample Output :\n",
        "Refynnej\"\"\"\n",
        "n = input()\n",
        "print(n[::-1].title())"
      ],
      "metadata": {
        "id": "nKu_fq09CUMp"
      },
      "execution_count": null,
      "outputs": []
    },
    {
      "cell_type": "code",
      "source": [
        "# Task 27\n",
        "\"\"\"Given a string S,\n",
        "print it after changing the middle element to * (if the length of the string is even, change the 2 middle elements to *).\n",
        "Sample Testcase :\n",
        "INPUT\n",
        "hello\n",
        "OUTPUT\n",
        "he*lo\"\"\"\n",
        "\n",
        "s = input()\n",
        "middle = int(len(s)/2)\n",
        "if len(s) % 2 == 0:\n",
        "  s = s.replace(s[middle-1:middle+1], '**')\n",
        "else:\n",
        "  s = s.replace(s[middle], '*')\n",
        "print(s)\n"
      ],
      "metadata": {
        "colab": {
          "base_uri": "https://localhost:8080/"
        },
        "id": "AFxqvN63C0xP",
        "outputId": "0dad4cf3-4180-41eb-fb4f-e1b08112fccf"
      },
      "execution_count": null,
      "outputs": [
        {
          "output_type": "stream",
          "name": "stdout",
          "text": [
            "hel**o78\n"
          ]
        }
      ]
    },
    {
      "cell_type": "code",
      "source": [
        "# task 28\n",
        "\"\"\"Guvi developed a new system to make sure no two usernames are same.\n",
        "So, they hired you as a developer to develop this system.\n",
        "They have set some rules to do the same.If you see the same username that already exists,\n",
        "just add a number at the end of that username ,else print \"Verified\".\n",
        "\n",
        "Input Description:\n",
        "First line consists of an integer N, denoting number of usernames. Second line consists of N spaced separated Strings, denoting usernames.\n",
        "\n",
        "Output Description:\n",
        "print the required output in a new line.\n",
        "\n",
        "Sample Input :\n",
        "4\n",
        "abc aab abc aba\n",
        "Sample Output :\n",
        "Verified Verified abc1 aba\"\"\"\n",
        "\n"
      ],
      "metadata": {
        "id": "MORPf8KbC5UV",
        "colab": {
          "base_uri": "https://localhost:8080/"
        },
        "outputId": "4b273c05-44fd-4945-a5fb-3ab18ee14896"
      },
      "execution_count": null,
      "outputs": [
        {
          "output_type": "stream",
          "name": "stdout",
          "text": [
            "abc2\n",
            "Verified\n",
            "abc2\n",
            "Verified\n"
          ]
        }
      ]
    },
    {
      "cell_type": "markdown",
      "source": [
        "# **Debugging**"
      ],
      "metadata": {
        "id": "__12aK1aSkem"
      }
    },
    {
      "cell_type": "code",
      "source": [
        "r, c = map(int, input().split())\n",
        "for i in range(1,r+1):\n",
        "    new_list = []\n",
        "    if (i==1) or (i==r):\n",
        "        for _ in range(c):\n",
        "            new_list.append('*')\n",
        "        print(new_list)\n",
        "    for j in range(1, c+1):\n",
        "        if (i==1) or (j==1) or (i==r) or (j==c):\n",
        "            print('*', end=' ')\n",
        "        else:\n",
        "            print(\" \", end=' ')\n",
        "    print()"
      ],
      "metadata": {
        "id": "aBg9yjBXsnTC"
      },
      "execution_count": null,
      "outputs": []
    },
    {
      "cell_type": "code",
      "source": [
        "r, c = map(int, input().split())\n",
        "for i in range(1,r+1):\n",
        "    new_list = []\n",
        "    if (i==1) or (i==r):\n",
        "        for _ in range(c):\n",
        "            new_list.append('*')\n",
        "        print(*new_list)\n",
        "    else:\n",
        "        for _ in range(c):\n",
        "            if (_==0) or (_==c-1):\n",
        "                new_list.append('*')\n",
        "            else:\n",
        "                new_list.append(' ')\n",
        "        print(*new_list)"
      ],
      "metadata": {
        "colab": {
          "base_uri": "https://localhost:8080/"
        },
        "id": "tqXz1q4ts1Mk",
        "outputId": "54341901-3aa2-4d92-de9a-e0c5933b8251"
      },
      "execution_count": null,
      "outputs": [
        {
          "output_type": "stream",
          "name": "stdout",
          "text": [
            "3 5\n",
            "* * * * *\n",
            "*       *\n",
            "* * * * *\n"
          ]
        }
      ]
    },
    {
      "cell_type": "markdown",
      "source": [
        "# **Array Codekata**"
      ],
      "metadata": {
        "id": "fN8LcTz7PnnW"
      }
    },
    {
      "cell_type": "code",
      "source": [
        "# Task 1\n",
        "\"\"\"A person saves his monthly saving according to given schema.\n",
        "He saves same amount of money which is equal to the money saved in immediate previous two months.\n",
        "Assume, initially he saved 1000 rupees and in first month he saved another 1000.\n",
        "Your task is to tell how much he had totally saved at the end of ‘n’ months\n",
        "Input Description:\n",
        "You will be given a number ‘n’->No. of months\n",
        "Output Description:\n",
        "Print the total savings at the end of ‘n’ months\n",
        "Sample Input :\n",
        "1\n",
        "Sample Output :\n",
        "2000\"\"\"\n",
        "\n",
        "n = int(input(''))\n",
        "initial_amount = 1000\n",
        "for i in range(1, n+1):\n",
        "    initial_amount += i*1000\n",
        "print(initial_amount)"
      ],
      "metadata": {
        "id": "1FEG4liyPssE"
      },
      "execution_count": null,
      "outputs": []
    },
    {
      "cell_type": "code",
      "source": [
        "# Task 2\n",
        "\"\"\"You are given with an circular array .Your task is calculate the\n",
        "difference between two consecutive number. And if difference is greater than ‘k’, print 1 else print 0\n",
        "\n",
        "Input Description:\n",
        "You are given two numbers ‘n’, ’m’. Next line contains n space separated integers.\n",
        "\n",
        "Output Description:\n",
        "Print 1 if the difference is greater than ‘m’.\n",
        "\n",
        "Sample Input :\n",
        "5 15\n",
        "50 65 85 98 35\n",
        "Sample Output :\n",
        "0 1 0 1 0\"\"\"\n",
        "\n",
        "def circular_array_difference(n, m, arr):\n",
        "    result = []\n",
        "    for i in range(n):\n",
        "        diff = abs(arr[i] - arr[(i + 1) % n])\n",
        "        if diff > m:\n",
        "            result.append('1')\n",
        "        else:\n",
        "            result.append('0')\n",
        "    print(' '.join(result))\n",
        "\n",
        "n, m = map(int, input().split())\n",
        "arr = list(map(int, input().split()))\n",
        "\n",
        "circular_array_difference(n, m, arr)"
      ],
      "metadata": {
        "id": "WAz1LVzfQrmf"
      },
      "execution_count": null,
      "outputs": []
    },
    {
      "cell_type": "code",
      "source": [
        "# Task 3\n",
        "\"\"\"You are given with an array. For each element present in the array your task is to\n",
        "print the next smallest than that number. If it is not smallest print -1\n",
        "\n",
        "Input Description:\n",
        "You are given a number ‘n’ representing size of array. And n space separated numbers.\n",
        "\n",
        "Output Description:\n",
        "Print the next smallest number present in array and -1 if no smallest is present\n",
        "\n",
        "Sample Input :\n",
        "7\n",
        "10 7 9 3 2 1 15\n",
        "Sample Output :\n",
        "7 3 3 2 1 -1 -1\n",
        "\"\"\"\n",
        "n = int(input())\n",
        "k = list(map(int, input().split()))\n",
        "count = 1\n",
        "new_list = []\n",
        "for i in range(len(k)):\n",
        "    l = count\n",
        "    while l < n-1:\n",
        "        if k[i] > k[l]:\n",
        "            new_list.append(k[l])\n",
        "            break\n",
        "        l += 1\n",
        "    else:\n",
        "        new_list.append(-1)\n",
        "    count+=1\n",
        "\n",
        "final_list = ''\n",
        "for i in new_list:\n",
        "    final_list += ' ' + str(i)\n",
        "print(final_list.strip())"
      ],
      "metadata": {
        "id": "wXZ4sMDvQjJz"
      },
      "execution_count": null,
      "outputs": []
    },
    {
      "cell_type": "code",
      "source": [
        "# Task 4\n",
        "\"\"\"you are given with an array of numbers,\n",
        "Your task is to print the difference of indices of largest and smallest number.All number are unique.\n",
        "Input Description:\n",
        "First line contains a number ‘n’. Then next line contains n space separated numbers.\n",
        "Output Description:\n",
        "Print the difference of indices of largest and smallest array\n",
        "Sample Input :\n",
        "5\n",
        "1 6 4 0 3\n",
        "Sample Output :\n",
        "-2\"\"\"\n",
        "\n",
        "n = int()\n",
        "l = list(map(int, input().split()))\n",
        "print(l.index(max(l)) - l.index(min(l)))"
      ],
      "metadata": {
        "id": "aFY09EoiQeeZ"
      },
      "execution_count": null,
      "outputs": []
    },
    {
      "cell_type": "code",
      "source": [
        "# Task 5\n",
        "\"\"\"You are a passport issuer, but due to some problems in the system, there are redundant\n",
        "passport numbers. Your task is to delete all the duplicate passport numbers.\n",
        "You are given a list of passport numbers.\n",
        "\n",
        "\n",
        "Input Description:\n",
        "You are given length of list.Second line,You are given with a list.\n",
        "\n",
        "Output Description:\n",
        "Print the list of passport numbers without duplicates.\n",
        "\n",
        "Sample Input :\n",
        "5\n",
        "A23 B56 B56 C79 D16\n",
        "Sample Output :\n",
        "A23 B56 C79 D16\"\"\"\n",
        "\n",
        "n = 5\n",
        "k = list(\"A23 B56 B56 C79 D16\".split())\n",
        "new_list = []\n",
        "for i in k:\n",
        "    if i not in new_list:\n",
        "        new_list.append(i)\n",
        "print(' '.join(new_list).strip())"
      ],
      "metadata": {
        "id": "mJlOoLpYQVb6"
      },
      "execution_count": null,
      "outputs": []
    },
    {
      "cell_type": "code",
      "source": [
        "# Task 6\n",
        "\"\"\"You are given a number with duplicate digits your task is to remove the immediate duplicate digits and print the result\n",
        "\n",
        "Input Description:\n",
        "You are given a long string of digits\n",
        "\n",
        "Output Description:\n",
        "Print the desired result print -1 if result length is 0\n",
        "\n",
        "Sample Input :\n",
        "1331\n",
        "Sample Output :\n",
        "11\"\"\"\n",
        "n = input()\n",
        "\n",
        "for x in range(len(n)-1):\n",
        "  if x < len(n) and x > 0:\n",
        "    if n[x] == n[x+1] or n[x] == n[x-1]:\n",
        "      n = n.replace(n[x],'')\n",
        "\n",
        "if len(n) == 0:\n",
        "  print(\"-1\")\n",
        "else:\n",
        "  print(n)"
      ],
      "metadata": {
        "id": "rfmbCCzMr8rq"
      },
      "execution_count": null,
      "outputs": []
    },
    {
      "cell_type": "code",
      "source": [
        "# Task 7\n",
        "\"\"\"Assume you are a student studying in school.\n",
        "You are given a task to find first negative integer for each and every window of size k.\n",
        "\n",
        "Input Description:\n",
        "First line contains an integer n denoting the size of the array.\n",
        "The next line contains n space separated integers forming the array.\n",
        "The last line contains the window size k.\n",
        "\n",
        "Output Description:\n",
        "Print the first negative integer in that window.If all the numbers are positive print 0\n",
        "\n",
        "Sample Input :\n",
        "7\n",
        "1 -2 -3 -4 5 6 -7\n",
        "3\n",
        "Sample Output :\n",
        "-2 -2 -3 -4 -7\"\"\"\n",
        "\n",
        "n = int(input())\n",
        "k = list(map(int, input().split()))\n",
        "ws = int(input())\n",
        "negative_int = []\n",
        "for i in range(len(k)):\n",
        "    if len(k[i:(i+ws)]) == 3:\n",
        "        for j in k[i:(i+ws)]:\n",
        "            if j < 0:\n",
        "                negative_int.append(j)\n",
        "                break\n",
        "        else:\n",
        "            negative_int.append(0)\n",
        "final_list = ''\n",
        "for i in negative_int:\n",
        "    final_list += ' ' + str(i)\n",
        "print(final_list.strip())"
      ],
      "metadata": {
        "id": "XXfYh4lWQT9B"
      },
      "execution_count": null,
      "outputs": []
    },
    {
      "cell_type": "code",
      "source": [
        "# Task 8\n",
        "\"\"\"You are given an array of ids of prisoners. The jail authority found that there are some prisoners of same id. Your task is to help the authority in finding the common ids.\n",
        "Input Description:\n",
        "First line contains a number ‘n’ representing no of prisoners. Next line contains n space separated numbers.\n",
        "\n",
        "Output Description:\n",
        "Print the ids which are not unique. Print -1 if all ids are unique\n",
        "\n",
        "Sample Input :\n",
        "7\n",
        "1 1 11 121 131 141 98\n",
        "Sample Output :\n",
        "1\"\"\"\n",
        "n = int(input())\n",
        "id = list(map(int, input().split()))\n",
        "val = [i for i in id if id.count(i) != 1]\n",
        "if len(val) > 0:\n",
        "    new_list = set(val)\n",
        "    print(' '.join(map(str, new_list)).strip())\n",
        "else:\n",
        "    print(-1)"
      ],
      "metadata": {
        "id": "ka2znkN3QI3B"
      },
      "execution_count": null,
      "outputs": []
    },
    {
      "cell_type": "code",
      "source": [
        "# Task 9\n",
        "\"\"\"You are given with two arrays.\n",
        "Your task is to merge the array such that first array is in ascending order and second one in descending order.\n",
        "\n",
        "Input Description:\n",
        "First line contains two integer ‘n’ and ‘m’. ‘n’ denotes length of array 1 and ‘m’ of array 2.Next line contains n space separated numbers and third line contains ‘m’ space separated numbers\n",
        "\n",
        "Output Description:\n",
        "Print a single array in desired order\n",
        "\n",
        "Sample Input :\n",
        "3 3\n",
        "23 15 16\n",
        "357 65 10\n",
        "Sample Output :\n",
        "15 16 23 357 65 10\"\"\"\n",
        "\n",
        "n = list(map(int, input().split()))\n",
        "first_array = list(map(int, input().split()))\n",
        "second_array = list(map(int, input().split()))\n",
        "first_array.sort()\n",
        "second_array.sort(reverse=True)\n",
        "final_output = first_array + second_array\n",
        "print(' '.join(map(str, final_output)).strip())\n"
      ],
      "metadata": {
        "colab": {
          "base_uri": "https://localhost:8080/"
        },
        "id": "8O1i5URJrfkj",
        "outputId": "70aae219-2fcd-4c15-c882-b6788fae32be"
      },
      "execution_count": null,
      "outputs": [
        {
          "output_type": "stream",
          "name": "stdout",
          "text": [
            "15 16 23 357 65 10\n"
          ]
        }
      ]
    },
    {
      "cell_type": "code",
      "source": [
        "# Task 10\n",
        "\"\"\"Given 2 numbers N and K followed by elements of N .Print 'yes' if K exists else print 'no'.\n",
        "Sample Testcase :\n",
        "INPUT\n",
        "4 2\n",
        "1 2 3 3\n",
        "OUTPUT\n",
        "yes\"\"\"\n",
        "n = input().split()\n",
        "k = input().split()\n",
        "\n",
        "value = ''\n",
        "for i in n:\n",
        "    if i in k:\n",
        "       value = 'yes'\n",
        "    else:\n",
        "       value = 'no'\n",
        "\n",
        "print(value)"
      ],
      "metadata": {
        "id": "jvZMjxTsuP9Q"
      },
      "execution_count": null,
      "outputs": []
    },
    {
      "cell_type": "code",
      "source": [
        "# Task 11\n",
        "\"\"\"Ramesh is a student and wants to find out if there is any other student in his class who has got the same marks as his, in maths.\n",
        "Help him to find out.\n",
        "\n",
        "Input Description:\n",
        "First line contains the number of students in the class followed by Ramesh’s mark. Second line contains the marks of all students in the class.\n",
        "\n",
        "Output Description:\n",
        "Index of student who got mark same as Ramesh’s mark. If no such mark exists, return -1.\n",
        "\n",
        "Sample Input :\n",
        "2 10\n",
        "1 2\n",
        "Sample Output :\n",
        "-1\"\"\"\n",
        "no_of_student, ramesh_mark = map(int, input().split())\n",
        "marks_of_all = list(map(int, input().split()))\n",
        "if ramesh_mark in marks_of_all:\n",
        "    print(marks_of_all.index(ramesh_mark))\n",
        "else:\n",
        "    print(-1)"
      ],
      "metadata": {
        "id": "nHQeMfn3udjE"
      },
      "execution_count": null,
      "outputs": []
    },
    {
      "cell_type": "code",
      "source": [
        "# Task 12 (pending)\n",
        "\"\"\"Mr.Stark wants to order the employee ids, which are recorded in a 2D matrix, in ascending order.\n",
        "He wants to do it so as to allot a new id to a person who joins as a fresher.\n",
        "You are the CTO of the Stark industries and you are asked by Mr.Stark to sort the data.\n",
        "\n",
        "Input Description:\n",
        "Dimensions of the matrix m and n, followed by the elements of the matrix.\n",
        "\n",
        "Output Description:\n",
        "Matrix sorted in ascending order\n",
        "\n",
        "Sample Input :\n",
        "3 3\n",
        "87 21 34\n",
        "89 32 78\n",
        "12 23 45\n",
        "Sample Output :\n",
        "12 21 23\n",
        "32 34 45\n",
        "78 87 89\"\"\""
      ],
      "metadata": {
        "id": "a44RujVNwtW3"
      },
      "execution_count": null,
      "outputs": []
    },
    {
      "cell_type": "code",
      "source": [
        "# Task 13\n",
        "\"\"\"You are an intern at GUVI and the company wants to organise its data and delete unnecessary extra storage elements used.\n",
        "You are given k arrays of unequal dimensions. Sort the k arrays individually and concatenate them.\n",
        "\n",
        "Input Description:\n",
        "First line contains the number of arrays. Subsequent lines contain the size of the array followed by the elements of the array.\n",
        "\n",
        "Output Description:\n",
        "An array containing the sorted elements of k sorted arrays\n",
        "\n",
        "Sample Input :\n",
        "3\n",
        "2\n",
        "98 12\n",
        "6\n",
        "1 2 3 8 5 9\n",
        "1\n",
        "11\n",
        "Sample Output :\n",
        "12 98 1 2 3 5 8 9 11\"\"\"\n",
        "\n",
        "n = int(input())\n",
        "total_list = []\n",
        "for _ in range(1, n+1):\n",
        "    total_num = int(input())\n",
        "    list_of_num = list(map(int, input().split()))\n",
        "    list_of_num.sort()\n",
        "    total_list.append(list_of_num)\n",
        "new_list = []\n",
        "for i in range(len(total_list)):\n",
        "    new_list.extend(total_list[i])\n",
        "\n",
        "print(' '.join(map(str, new_list)).strip())"
      ],
      "metadata": {
        "id": "zGMUG07LpW1U"
      },
      "execution_count": null,
      "outputs": []
    },
    {
      "cell_type": "code",
      "source": [
        "# Task 14\n",
        "\"\"\"You are provided with an array in which all elements are repeated thrice except one which is repeated twice.\n",
        "Your task is to print that number.\n",
        "\n",
        "O(n) time and O(1) extra space\n",
        "\n",
        "\n",
        "Input Description:\n",
        "First line contains a number denoting size of array ‘n’.Next line contains n space separated numbers\n",
        "\n",
        "Output Description:\n",
        "Print the number which is repeated twice\n",
        "\n",
        "Sample Input :\n",
        "5\n",
        "13 12 13 12 13\n",
        "Sample Output :\n",
        "12\"\"\"\n",
        "\n",
        "n = int(input())\n",
        "arr = list(map(int, input().split()))\n",
        "for i in arr:\n",
        "    if arr.count(i) == 2:\n",
        "        if i != 1:\n",
        "          print(i)\n",
        "          break"
      ],
      "metadata": {
        "id": "GTDWkO4cpqIB"
      },
      "execution_count": null,
      "outputs": []
    },
    {
      "cell_type": "code",
      "source": [
        "# Task 15\n",
        "\"\"\"you are given with array of numbers.you have to find whether array is beautiful or not.\n",
        "A beautiful array is an array whose sum of all numbers is divisible by 2, 3 and 5\n",
        "\n",
        "Input Description:\n",
        "You are given a number ‘n’ denoting the size of array.Next line contains n space separated numbers.\n",
        "\n",
        "Output Description:\n",
        "Print 1 if array is beautiful and 0 if it is not\n",
        "\n",
        "Sample Input :\n",
        "5\n",
        "5 25 35 -5 30\n",
        "Sample Output :\n",
        "1\"\"\"\n",
        "\n",
        "n = int(input())\n",
        "m = list(map(int, input().split()))\n",
        "\n",
        "total_sum = sum(m)\n",
        "\n",
        "if total_sum % 2 == 0 and total_sum % 3 == 0 and total_sum % 5 == 0:\n",
        "    print(1)\n",
        "else:\n",
        "    print(0)"
      ],
      "metadata": {
        "colab": {
          "base_uri": "https://localhost:8080/"
        },
        "id": "kaEUym8GqPSh",
        "outputId": "611a777f-032c-4c40-8c5d-5ef83618bf0a"
      },
      "execution_count": 8,
      "outputs": [
        {
          "output_type": "stream",
          "name": "stdout",
          "text": [
            "1\n",
            "1\n",
            "0\n"
          ]
        }
      ]
    },
    {
      "cell_type": "code",
      "source": [
        "# Task 16\n",
        "\"\"\"You are given an array. Your task is to sort the array in given manner.\n",
        "Print the elements in increasing order of the frequency. If frequency is same print smaller one first.\n",
        "\n",
        "Input Description:\n",
        "You are given a number ‘n’. Then in next line n space separated numbers.\n",
        "\n",
        "Output Description:\n",
        "Print the array as mentioned\n",
        "\n",
        "Sample Input :\n",
        "4\n",
        "1 1 3 2\n",
        "Sample Output :\n",
        "2 3 1\"\"\"\n",
        "\n",
        "n = int(input())\n",
        "arr= list(map(int,input().split()))\n",
        "\n",
        "from collections import Counter\n",
        "\n",
        "def frequencySort(nums):\n",
        "    cn = Counter(nums)\n",
        "    out = []\n",
        "    for k, v in sorted(cn.items(), key = lambda kv: (kv[1],kv[0])):\n",
        "        out.append(v*[k])\n",
        "\n",
        "    o = []\n",
        "    for i in out:\n",
        "        o+= i\n",
        "\n",
        "    final = []\n",
        "    for i in o:\n",
        "        if i not in final:\n",
        "            final.append(i)\n",
        "    return final\n",
        "\n",
        "print(*frequencySort(arr))\n"
      ],
      "metadata": {
        "colab": {
          "base_uri": "https://localhost:8080/"
        },
        "id": "AkQhSKuTsuer",
        "outputId": "880a5f8f-c13e-494f-a14f-3cd452ec7a16"
      },
      "execution_count": 14,
      "outputs": [
        {
          "output_type": "stream",
          "name": "stdout",
          "text": [
            "2 1\n",
            "3 1\n",
            "1 2\n",
            "2 3 1\n"
          ]
        }
      ]
    },
    {
      "cell_type": "code",
      "source": [
        "# Task 17\n",
        "\"\"\"Given a string S, print it after changing the middle element to *\n",
        "(if the length of the string is even, change the 2 middle elements to *).\n",
        "Sample Testcase :\n",
        "INPUT\n",
        "hello\n",
        "OUTPUT\n",
        "he*lo\"\"\"\n",
        "\n",
        "s = input()\n",
        "middle = int(len(s)/2)\n",
        "if len(s) % 2 == 0:\n",
        "  s = s.replace(s[middle-1:middle+1], '**')\n",
        "else:\n",
        "  s = s.replace(s[middle], '*')\n",
        "print(s)"
      ],
      "metadata": {
        "colab": {
          "base_uri": "https://localhost:8080/"
        },
        "id": "ag4nEZsavBf-",
        "outputId": "14cf246e-463c-40fe-b40e-5659c3cbe9a7"
      },
      "execution_count": 19,
      "outputs": [
        {
          "output_type": "stream",
          "name": "stdout",
          "text": [
            "datee\n",
            "else\n",
            "da*ee\n"
          ]
        }
      ]
    },
    {
      "cell_type": "code",
      "source": [
        "# Task 18 (To be done)\n",
        "\"\"\"You are a software engineer at an MNC. You are given the task of sorting the employees\n",
        "in your company based on their salary. Perform the task so that the employees, including yourself,\n",
        "will get a bonus from the management.\n",
        "\n",
        "CONSTRAINT:\n",
        "\n",
        "0<=salary<=1000000\n",
        "\n",
        "Input Description:\n",
        "Number of employees followed by their name and salary\n",
        "\n",
        "Output Description:\n",
        "Sorted list of employee names\n",
        "\n",
        "Sample Input :\n",
        "3\n",
        "Karthik 23000 rohan 81734 varshini 12343\n",
        "Sample Output :\n",
        "varshini\n",
        "Karthik\n",
        "Rohan\"\"\"\n"
      ],
      "metadata": {
        "id": "tcQsxEgvyvqr"
      },
      "execution_count": null,
      "outputs": []
    },
    {
      "cell_type": "markdown",
      "source": [
        "# **Bitwise Codekata**"
      ],
      "metadata": {
        "id": "bSrv0XAYQ1rz"
      }
    },
    {
      "cell_type": "code",
      "source": [
        "# Task 1 and Task 2\n",
        "\"\"\"Given a number N and an array of N elements, find the Bitwise OR of the array elements.\n",
        "Input Size : N <= 100000\n",
        "Sample Testcase :\n",
        "INPUT\n",
        "2\n",
        "2 4\n",
        "OUTPUT\n",
        "6\"\"\"\n",
        "from functools import reduce\n",
        "n = int(input())\n",
        "arr = list(map(int, input().split()))\n",
        "result = reduce(lambda x, y: x | y, arr)\n",
        "print(result)"
      ],
      "metadata": {
        "id": "_Dpo8g57Q8DQ"
      },
      "execution_count": null,
      "outputs": []
    },
    {
      "cell_type": "code",
      "source": [
        "# taak 3\n",
        "\"\"\"Given a binary number convert it to hexadecimal.\n",
        "Sample Testcase :\n",
        "INPUT\n",
        "1100100\n",
        "OUTPUT\n",
        "64\"\"\""
      ],
      "metadata": {
        "id": "oUKITnfCRAxS"
      },
      "execution_count": null,
      "outputs": []
    },
    {
      "cell_type": "markdown",
      "source": [
        "# **Numbers**"
      ],
      "metadata": {
        "id": "p7z_qUJWRleT"
      }
    },
    {
      "cell_type": "code",
      "source": [
        "# Task 1:\n",
        "\"\"\" You are provided with a number ’n’.\n",
        " Your task is to tell whether that number is saturated. A saturated number is a number which is made by exactly two digits.\n",
        "\n",
        "Input Description:\n",
        "You are given with a number n.\n",
        "\n",
        "Output Description:\n",
        "Print Saturated if it is saturated else it is Unsaturated\n",
        "\n",
        "Sample Input :\n",
        "121\n",
        "Sample Output :\n",
        "Saturated\"\"\"\n",
        "\n",
        "inputt = input()\n",
        "sett = list(set(inputt))\n",
        "\n",
        "if(len(sett) == 2):\n",
        "    print(\"Saturated\")\n",
        "else:\n",
        "    print(\"Unsaturated\")"
      ],
      "metadata": {
        "id": "KCwcgtxURr2j"
      },
      "execution_count": null,
      "outputs": []
    },
    {
      "cell_type": "code",
      "source": [
        "# Task 2\n",
        "\"\"\"Prateek finds it difficult to judge the minimum element in the list of elements given to him.\n",
        "Your task is to develop the algorithm in order to find the minimum element.\n",
        "\n",
        "Input Description:\n",
        "You are given ‘n’ number of elements. Next line contains n space separated numbers.\n",
        "\n",
        "Output Description:\n",
        "Print the minimum element\n",
        "\n",
        "Sample Input :\n",
        "5\n",
        "3 4 9 1 6\n",
        "Sample Output :\n",
        "1\n",
        "\"\"\"\n",
        "n = int(input())\n",
        "list_1 = list(map(int, input().split()))\n",
        "list_1.sort()\n",
        "print(list_1[0])"
      ],
      "metadata": {
        "id": "aZB8kdGpR0Ha"
      },
      "execution_count": null,
      "outputs": []
    },
    {
      "cell_type": "code",
      "source": [
        "# Task 3\n",
        "\"\"\"You are an employee of ‘Rox Travel’ channel.The channel has decided to give allowances to some customer\n",
        "who satisfy these conditions. The conditions are:\n",
        "The customer should be born on or before july 22 1987\n",
        "The month of D.O.B month should be of 31 days.\n",
        "You are given with the D.O.B of all the employees.\n",
        "Your task is to print the employee index who are having chance to avail special offer.\n",
        "\n",
        "Input Description:\n",
        "First line contains the number of employee.Next line contains an array of D.O.B of employees\n",
        "\n",
        "Output Description:\n",
        "Print the employee index (index at 1). Print-1 if there are no such employee\n",
        "\n",
        "Sample Input :\n",
        "Input\n",
        "4\n",
        "23 MARCH 1996 23 MARCH 1986 22 JULY 1987 23 APRIL 1987\n",
        "Sample Output :\n",
        "2 3\"\"\"\n"
      ],
      "metadata": {
        "id": "NwqHoDn_RvHw"
      },
      "execution_count": null,
      "outputs": []
    },
    {
      "cell_type": "markdown",
      "source": [
        "# **Mathematics**"
      ],
      "metadata": {
        "id": "RvvEr0DjSz6V"
      }
    },
    {
      "cell_type": "code",
      "source": [
        "\"\"\"Task : Prime factors\"\"\"\n",
        "def prime_factors(n):\n",
        "    factors = []\n",
        "    divisor = 2\n",
        "    while n > 1:\n",
        "        while n % divisor == 0:\n",
        "            factors.append(divisor)\n",
        "            print(\"n\",n)\n",
        "            n //= divisor\n",
        "            print(\"n23\",n)\n",
        "        divisor += 1\n",
        "    return factors\n",
        "\n",
        "def lcm_of_list(numbers):\n",
        "    prime_factors_mult = {}\n",
        "    for num in numbers:\n",
        "        factors = prime_factors(num)\n",
        "        num_count = {}\n",
        "        for factor in factors:\n",
        "            if factor in num_count:\n",
        "                num_count[factor] += 1\n",
        "            else:\n",
        "                num_count[factor] = 1\n",
        "        for factor, count in num_count.items():\n",
        "            if factor in prime_factors_mult:\n",
        "                prime_factors_mult[factor] = max(prime_factors_mult[factor], count)\n",
        "            else:\n",
        "                prime_factors_mult[factor] = count\n",
        "\n",
        "    lcm = 1\n",
        "    for factor, count in prime_factors_mult.items():\n",
        "        lcm *= factor ** count\n",
        "    return lcm\n",
        "\n",
        "N = int(input())\n",
        "values = list(map(int, input().split()))\n",
        "print(lcm_of_list(values))"
      ],
      "metadata": {
        "id": "qloMo8x6S3fV"
      },
      "execution_count": null,
      "outputs": []
    },
    {
      "cell_type": "code",
      "source": [
        "# Task 3\n",
        "\"\"\"A person saves his monthly saving according to given schema.\n",
        "He saves same amount of money which is equal to the money saved in immediate previous two months.\n",
        "Assume, initially he saved 1000 rupees and in first month he saved another 1000.\n",
        "Your task is to tell how much he had totally saved at the end of ‘n’ months\n",
        "\"\"\"\n",
        "\"\"\" inital ah enta 1000 iruku 1st month nan atha double ah aakuren 2000\n",
        "second month 2000 atha double aakuna 4000\n",
        "third month 3000 atha dobule akuna 7000\"\"\"\n",
        "\n",
        "\"\"\"n = int(input(''))\n",
        "initial_amount = 1000\n",
        "for i in range(1, n+1):\n",
        "    initial_amount += i*1000\n",
        "print(initial_amount)\"\"\""
      ],
      "metadata": {
        "id": "9-waptXEW7MI"
      },
      "execution_count": null,
      "outputs": []
    },
    {
      "cell_type": "code",
      "source": [
        "# Task 4\n",
        "\"\"\"Given a number N, print yes if the number is a multiple of 7 else print no.\"\"\"\n",
        "\n",
        "\"\"\"n = int(input())\n",
        "print('yes' if n%7 == 0 else 'no')\"\"\""
      ],
      "metadata": {
        "id": "tQKVPPnXW0Cm"
      },
      "execution_count": null,
      "outputs": []
    },
    {
      "cell_type": "code",
      "source": [
        "# Task 5\n",
        "\"\"\" Given 3 numbers a,b,c print a*b mod c.\"\"\"\n",
        "\n",
        "\"\"\"a, b, c = map(int, input().split())\n",
        "print(a*b%c)\"\"\""
      ],
      "metadata": {
        "id": "fX4sBcMBWwMP"
      },
      "execution_count": null,
      "outputs": []
    },
    {
      "cell_type": "code",
      "source": [
        "# Task 6\n",
        "\"\"\"You are given a number ‘n’. You have to tell whether a number is great or not.\n",
        "A great number is a number whose sum of digits let (m) and\n",
        "product of digits let(j) when summed together gives the number back\"\"\"\n",
        "\n",
        "\"\"\"n = int(input())\n",
        "original_value = n\n",
        "sum = 0\n",
        "mul = 1\n",
        "while (n > 0):\n",
        "    r = n % 10 #getting 9 from 59\n",
        "    sum = sum + r\n",
        "    mul = mul * r\n",
        "    n = n // 10 #getting 5 from 59\n",
        "\n",
        "great_num = sum + mul\n",
        "if great_num == original_value:\n",
        "    print(\"Great\")\n",
        "else:\n",
        "    print(\"no\")\"\"\""
      ],
      "metadata": {
        "id": "1acPQXhDWqSO"
      },
      "execution_count": null,
      "outputs": []
    },
    {
      "cell_type": "code",
      "source": [
        "# Task 7\n",
        "\"\"\"You are given a large number made of only 0’s and 1’s.\n",
        "Your task is to find the max no of consecutive 1’s.\n",
        "If there are no 1’s print -1\"\"\"\n",
        "# range na (0,10) -> for loop la use panuvom\n",
        "# current length find panna use panuvom\n",
        "\n",
        "n = input()\n",
        "max_consecutive = 0\n",
        "current_consecutive = 0\n",
        "\n",
        "for i in range(len(n)):\n",
        "    if n[i] == '1':\n",
        "        current_consecutive += 1\n",
        "        max_consecutive = max(max_consecutive, current_consecutive)\n",
        "    else:\n",
        "        current_consecutive = 0\n",
        "\n",
        "if max_consecutive:\n",
        "    print(max_consecutive)\n",
        "else:\n",
        "    print('-1')"
      ],
      "metadata": {
        "id": "ms5NrZLTV0P4"
      },
      "execution_count": null,
      "outputs": []
    },
    {
      "cell_type": "code",
      "source": [
        "# Task 8\n",
        "\"\"\"You will be given two numbers ‘n’ and ‘m’\n",
        "Your task is to tell whether numbers is co prime or not. If it is a co-prime print 1 else 0\"\"\"\n",
        "\n",
        "import math\n",
        "n,m = map(int, input().split())\n",
        "if math.gcd(n,m) == 1:\n",
        "    print(1)\n",
        "else:\n",
        "    print(0)"
      ],
      "metadata": {
        "id": "lzllEsg0VwXo"
      },
      "execution_count": null,
      "outputs": []
    },
    {
      "cell_type": "code",
      "source": [
        "# Task 9\n",
        "\"\"\"Input Description:\n",
        "First line contains input ‘n’.Next line contains n space separated numbers\n",
        "denoting ticket numbers .Next line contains ‘k’ date of the month.\n",
        "If ticket number is divisible by date of month. You are eligible for a discount.\n",
        "\n",
        "Output Description:\n",
        "Print 1 if the ticket is eligible for discount else 0\"\"\"\n",
        "\n",
        "n = int(input())\n",
        "ticket_numbers = list(map(int, input().split()))\n",
        "k = int(input())\n",
        "discount = ''\n",
        "for i in ticket_numbers:\n",
        "    if i % k == 0:\n",
        "        discount += ' ' + str(1)\n",
        "    else:\n",
        "        discount += ' ' + str(0)\n",
        "\n",
        "print(discount.strip())"
      ],
      "metadata": {
        "id": "zMwIdbq6VsHg"
      },
      "execution_count": null,
      "outputs": []
    },
    {
      "cell_type": "code",
      "source": [
        "# Task 10\n",
        "\"\"\"You are given an array of numbers. Print the least occurring element.\n",
        "If there is more than 1 element print all of them in decreasing order of their value.\"\"\"\n",
        "\n",
        "n = int(input())\n",
        "elements = list(map(int, input().split()))\n",
        "elements_count = {i:elements.count(i) for i in elements}\n",
        "\n",
        "min_value = min(elements_count.values())\n",
        "min_keys = [key for key, value in elements_count.items() if value == min_value]\n",
        "\n",
        "min_keys.sort(reverse=True)\n",
        "print(' '.join(map(str, min_keys)))"
      ],
      "metadata": {
        "id": "neLns3aBVjH_"
      },
      "execution_count": null,
      "outputs": []
    },
    {
      "cell_type": "code",
      "source": [
        "# Task 11\n",
        "# Cumulative probability = 1 - (5/6)^n\n",
        "\"\"\"You are given a number ‘n’.\n",
        "Print two numbers denoting numerator and denominator\"\"\"\n",
        "\n",
        "from fractions import Fraction\n",
        "n = int(input())\n",
        "final_result = 0\n",
        "for i in range(1, n+1):\n",
        "    base_fraction = Fraction(5, 6)\n",
        "    result_fraction = base_fraction ** i\n",
        "    final_result = 1 - result_fraction\n",
        "print(f'{final_result.numerator} {final_result.denominator}')"
      ],
      "metadata": {
        "id": "UoLRticFVTD2"
      },
      "execution_count": null,
      "outputs": []
    },
    {
      "cell_type": "code",
      "source": [
        "# Task 12\n",
        "\"\"\"In a firm there is an intelligent employee.\n",
        "He said that he will not work on all those days which has factors more than 2.\n",
        "You are given with month and year calculate the no of working days of employee.\"\"\"\n",
        "\n",
        "x = input().split()\n",
        "months = {'January': 1, 'February': 2, 'March': 3, 'April': 4,\n",
        "    'May': 5, 'June': 6, 'July': 7, 'August': 8,\n",
        "    'September': 9, 'October': 10, 'November': 11, 'December': 12\n",
        "}\n",
        "month = x[0]\n",
        "get_month = months[month]\n",
        "year = x[1]\n",
        "lower = 1\n",
        "count = 0\n",
        "def get_range(month, year):\n",
        "    if month in list(range(1,7)):\n",
        "        if month == 2:\n",
        "            if year % 4 == 0:\n",
        "                return 29\n",
        "            else:\n",
        "                return 28\n",
        "        if month % 2 == 0:\n",
        "            return 30\n",
        "        else:\n",
        "            return 31\n",
        "    else:\n",
        "        if month % 2 == 0:\n",
        "            return 31\n",
        "        else:\n",
        "            return 30\n",
        "\n",
        "x = get_range(get_month, year)\n",
        "for num in range(lower, x + 1):\n",
        "   if num > 1:\n",
        "       for i in range(2, num):\n",
        "           if (num % i) == 0:\n",
        "               break\n",
        "       else:\n",
        "           count = count + 1\n",
        "\n",
        "print(count)"
      ],
      "metadata": {
        "id": "c-pLOv18VLmA"
      },
      "execution_count": null,
      "outputs": []
    },
    {
      "cell_type": "code",
      "source": [
        "# Task 13\n",
        "\"\"\"You are given an array of non-negative integers representing height of walls at index i as\n",
        "Ai and the width of each block is 1. Compute how much air can be encapsulated between the walls of chamber.\n",
        "\n",
        "Input Description:\n",
        "Each line contains an integer ‘N’ denoting the size of the array Next line contains N space separated\n",
        "numbers to be stored in array.\n",
        "\n",
        "Output Description:\n",
        "Output the total unit of Air encapsulated between the walls of chamber.\n",
        "\"\"\"\n",
        "a=int(input())\n",
        "list_1 = list(map(int, input().split()))\n",
        "ind_0 = list_1[0]\n",
        "if list_1[a-1] < ind_0:\n",
        "    ind_0 = list_1[a-1]\n",
        "b=0\n",
        "for i in list_1[1:a-1]:\n",
        "    if i < ind_0:\n",
        "        b += ind_0-i\n",
        "print(b)"
      ],
      "metadata": {
        "id": "ZbdZ3qwmVEbO"
      },
      "execution_count": null,
      "outputs": []
    },
    {
      "cell_type": "code",
      "source": [
        "# Task 14\n",
        "\"\"\"You are given with a number ‘n’. You have to count the pair of two numbers\n",
        "a and b such that sum of two numbers are equal to n.\n",
        "Note:Both numbers lie in range 1<=a,b<n\n",
        "Input Description:\n",
        "You are given a number ‘n’\n",
        "Output Description:\n",
        "Print the number of pairs satisfying above condition\"\"\"\n",
        "\n",
        "n = int(input())\n",
        "list_numbers = range(1,n)\n",
        "count = 0\n",
        "for i in range(1, n):\n",
        "    for j in range(1, n):\n",
        "        if i + j == n:\n",
        "            count += 1\n",
        "print(count)"
      ],
      "metadata": {
        "id": "GTuRl2c4U-D_"
      },
      "execution_count": null,
      "outputs": []
    },
    {
      "cell_type": "code",
      "source": [
        "# Task 15\n",
        "\"\"\"Count the number of digits of a given number N.Size of the integer ranges from 1\n",
        "Sample Testcases :\n",
        "INPUT\n",
        "548\n",
        "OUTPUT\n",
        "3\"\"\"\n",
        "\n",
        "n = int(input())\n",
        "print(len(str(n)))"
      ],
      "metadata": {
        "id": "kopj5i3zU78j"
      },
      "execution_count": null,
      "outputs": []
    },
    {
      "cell_type": "code",
      "source": [
        "# Task 16\n",
        "\"\"\"You are given a set of numbers,\n",
        "out of which you have to tell which of them are finest.\n",
        "A finest number ‘n’ is a number which is formed by a number ‘t’ such that\n",
        "n=t^3+(t+1)^3\"\"\"\n",
        "\n",
        "import math\n",
        "\n",
        "n = int(input())\n",
        "numbers = list(map(int, input().split()))\n",
        "\n",
        "finest_values = []\n",
        "\n",
        "for number in numbers:\n",
        "    found_finest = False\n",
        "    for count in range(1, int(math.pow(number, 1 / 3)) + 1):\n",
        "        t_value = math.pow(count, 3) + math.pow(count + 1, 3)\n",
        "        if t_value == number:\n",
        "            finest_values.append(number)\n",
        "            found_finest = True\n",
        "            break\n",
        "\n",
        "    if not found_finest:\n",
        "        finest_values.append(-1)\n",
        "\n",
        "result = sorted(filter(lambda x: x != -1, finest_values))\n",
        "\n",
        "print(\" \".join(map(str, result)))"
      ],
      "metadata": {
        "id": "zklOnpXVUrrK"
      },
      "execution_count": null,
      "outputs": []
    },
    {
      "cell_type": "code",
      "source": [
        "# Task 17\n",
        "\"\"\"You are given a task to\n",
        "tell whether the number is pure or not. A pure number is a number whose sum of digits is multiple of 3.\"\"\"\n",
        "\n",
        "n = int(input())\n",
        "add = 0\n",
        "\n",
        "while n > 0:\n",
        "    x = n % 10\n",
        "    add = add + x\n",
        "    n = n // 10\n",
        "\n",
        "print('yes' if add % 3 == 0 else 'not')"
      ],
      "metadata": {
        "id": "hXVn0Z7lUoI4"
      },
      "execution_count": null,
      "outputs": []
    },
    {
      "cell_type": "code",
      "source": [
        "# Task 18\n",
        "\"\"\" Pk finds it difficult to judge the minimum element in the list of elements given to him.\n",
        "Your task is to develop the algorithm in order to find the minimum element.\n",
        "\n",
        "Note:Don’t use sorting\n",
        "\"\"\"\n",
        "n = int(input())\n",
        "list_1 = list(map(int, input().split()))\n",
        "\n",
        "temp = list_1[0]\n",
        "for i in list_1:\n",
        "    if temp < i:\n",
        "        temp = temp\n",
        "    else:\n",
        "        temp = i\n",
        "\n",
        "print(temp)"
      ],
      "metadata": {
        "id": "KK8jLXdpUWHa"
      },
      "execution_count": null,
      "outputs": []
    },
    {
      "cell_type": "code",
      "source": [
        "# Task 19\n",
        "\"\"\" Given a number N, print the product of the digits.\n",
        "Input Size : N <= 100000000000\"\"\"\n",
        "\n",
        "n = int(input())\n",
        "product = 1\n",
        "while n > 0:\n",
        "    x = n % 10\n",
        "    product = product * x\n",
        "    n = n // 10\n",
        "print(product)"
      ],
      "metadata": {
        "id": "pN2YbKtxUN01"
      },
      "execution_count": null,
      "outputs": []
    },
    {
      "cell_type": "code",
      "source": [
        "# Task 20\n",
        "\"\"\"Given a number N, find the nearest greater multiple of 10.\n",
        "Input Size : N <= 10000\"\"\"\n",
        "\n",
        "n = int(input())\n",
        "\n",
        "for i in range(n, 10000):\n",
        "    if i % 10 == 0:\n",
        "        print(i)\n",
        "        break"
      ],
      "metadata": {
        "id": "fnuepzW4UKsh"
      },
      "execution_count": null,
      "outputs": []
    },
    {
      "cell_type": "code",
      "source": [
        "# Task 21\n",
        "\"\"\"Given 3 numbers N , L and R. Print 'yes' if N is between L and R else print 'no'.\"\"\"\n",
        "n = int(input())\n",
        "l, r = input().split()\n",
        "if n > int(l) and n < int(r):\n",
        "    print('yes')\n",
        "else:\n",
        "    print('no')"
      ],
      "metadata": {
        "id": "CS8qTDQsT-Sb"
      },
      "execution_count": null,
      "outputs": []
    },
    {
      "cell_type": "code",
      "source": [
        "# Task 22\n",
        "\"\"\"Sreelatha was confused with series. She is given with a number ‘n’.\n",
        "There is a pattern hidden the series. She has to understand and\n",
        "print the series till nth number by looking into example.\n",
        "Sreelatha is confused and She hired you , you have to develop the series for sreelatha by\n",
        "observing the pattern from the below example.\n",
        "Input Description:\n",
        "She is given with a number ‘n’. #3\n",
        "Output Description:\n",
        "print  the series till nth number #1 9 36\n",
        "\"\"\"\n",
        "n = int(input())\n",
        "temp = 1\n",
        "new_list = ''\n",
        "for i in range(2, 10):\n",
        "    if len(new_list.split()) > n-1:\n",
        "        break\n",
        "    new_list = new_list + ' ' + str(temp**2)\n",
        "    temp = temp + i\n",
        "print(new_list.strip())"
      ],
      "metadata": {
        "id": "wM_w322lT1xi"
      },
      "execution_count": null,
      "outputs": []
    },
    {
      "cell_type": "code",
      "source": [
        "# Task 23\n",
        "\"\"\"Given a number N, print the odd digits in the number(space seperated) or\n",
        "print -1 if there is no odd digit in the given number.\n",
        "Input Size : N <= 100000\n",
        "Sample Testcase :\n",
        "INPUT\n",
        "2143\n",
        "OUTPUT\n",
        "1 3:\"\"\"\n",
        "\n",
        "n = int(input())\n",
        "\n",
        "odd = []\n",
        "while n > 0:\n",
        "    x = n % 10\n",
        "    if x % 2 != 0:\n",
        "        odd.append(x)\n",
        "    n = n // 10\n",
        "\n",
        "odd.reverse()\n",
        "if len(odd) != 0:\n",
        "    print(' '.join(str(i) for i in odd))\n",
        "else:\n",
        "    print(-1)"
      ],
      "metadata": {
        "id": "BBFYGUmzTsmn"
      },
      "execution_count": null,
      "outputs": []
    },
    {
      "cell_type": "code",
      "source": [
        "# Task 24\n",
        "\"\"\"Given a number N, find its next immediate greater power of 2(i.e 2^1, 2^2, 2^3...).\n",
        "Input Size : N <= 1000\"\"\"\n",
        "\n",
        "n = int(input())\n",
        "list_2 = [(2**i) for i in range(1, 100)]\n",
        "for i in list_2:\n",
        "    if n in list_2:\n",
        "        index = list_2.index(n)\n",
        "        print(list_2[index+1])\n",
        "        break"
      ],
      "metadata": {
        "id": "aA22wmWlTi16"
      },
      "execution_count": null,
      "outputs": []
    },
    {
      "cell_type": "code",
      "source": [
        "# Task 25\n",
        "\"\"\"CONSTRAINTS 1<=Y,N,T<=1000 , First line contains no. of test cases(Y). Next line contains a number N.\n",
        "Next line contains n space separated numbers Next line contains a number\n",
        "T denoting the number of questions asked from you regarding the given array.\n",
        "Next line contains T space separated numbers.\n",
        "Output Description:\n",
        "Print the occurrence of each number if present else “NOT PRESENT”\n",
        "Sample Input :\n",
        "10\n",
        "1 1 1 2 2 2 3 8 9 7\n",
        "5\n",
        "1 2 3 0 5\n",
        "Sample Output :\n",
        "3 3 1 Not Present Not Present\"\"\"\n",
        "\n",
        "y = int(input())\n",
        "N = list(map(int, input().split()))\n",
        "s = int(input())\n",
        "t = list(map(int, input().split()))\n",
        "def get_len_of_num(n):\n",
        "    count = 0\n",
        "    for i in N:\n",
        "        if n == i:\n",
        "            count = count+1\n",
        "    return count\n",
        "\n",
        "count = 0\n",
        "final_output = ''\n",
        "for i in t:\n",
        "    count = get_len_of_num(i)\n",
        "    if count != 0:\n",
        "        final_output += ' ' + str(count)\n",
        "    else:\n",
        "        final_output += ' Not Present'\n",
        "\n",
        "print(final_output.strip())"
      ],
      "metadata": {
        "id": "JLKbHfGDTQGL"
      },
      "execution_count": null,
      "outputs": []
    },
    {
      "cell_type": "code",
      "source": [
        "# Task 26\n",
        "\"\"\"Given a number N, print 'yes' if it is composite else print 'no'.\n",
        "Sample Testcase :\n",
        "INPUT\n",
        "123\n",
        "OUTPUT\n",
        "yes\"\"\"\n",
        "\n",
        "n = int(input())\n",
        "count = 0\n",
        "\n",
        "for i in range(1, n+1):\n",
        "    if n%i == 0:\n",
        "        count += 1\n",
        "\n",
        "if count > 2:\n",
        "    print(\"yes\")\n",
        "else:\n",
        "    print(\"no\")"
      ],
      "metadata": {
        "id": "Z2l1PNp7TDo0"
      },
      "execution_count": null,
      "outputs": []
    },
    {
      "cell_type": "code",
      "source": [
        "# Task 27\n",
        "\"\"\"Ajay is given a series(In example).he gone through the series but unable to understand it properly\n",
        "he has hired you. Your task is to understand the series and print the series 2,6,12,20,30... .\n",
        "You are given with a number ‘n’. Find the nth number of series.\n",
        "Input Description:\n",
        "You are given a number ‘n’.\n",
        "Output Description:\n",
        "Print the nth number of series\n",
        "Sample Input :\n",
        "5\n",
        "Sample Output :\n",
        "30\"\"\"\n",
        "# 2 ah 2 ah kutitu ponum. 2 + 4 = 6, 6 + 6 = 12, 12 + 8 = 20\n",
        "\n",
        "count = 0\n",
        "n = int(input())\n",
        "for i in range(1, n+1):\n",
        "    count = count + 2\n",
        "\n",
        "print(count)"
      ],
      "metadata": {
        "id": "Pf2xmSzTS621"
      },
      "execution_count": null,
      "outputs": []
    },
    {
      "cell_type": "markdown",
      "source": [
        "# **Companies**"
      ],
      "metadata": {
        "id": "TjQBx6MaXN6a"
      }
    },
    {
      "cell_type": "code",
      "source": [
        "# Task 1\n",
        "\"\"\"Given a number N followed by a list of N numbers.\n",
        "Write a program to reverse the list and print the list.\n",
        "Input Size : 1 <= N <= 10000\n",
        "Sample Testcases :\n",
        "INPUT\n",
        "7\n",
        "1 2 3 4 5 6 7\n",
        "OUTPUT\n",
        "7->6->5->4->3->2->1\"\"\"\n",
        "\n",
        "n = int(input())\n",
        "list_1 = list(map(int, input().split()))\n",
        "list_1.reverse()\n",
        "print('->'.join(str(i) for i in list_1))"
      ],
      "metadata": {
        "id": "Eh64TxBvXQPX"
      },
      "execution_count": null,
      "outputs": []
    },
    {
      "cell_type": "code",
      "source": [
        "# Task 2\n",
        "\"\"\"Given a sentence interchange the between the word 'and'.\n",
        "Input Size : |S| <= 1000000\n",
        "Sample Testcase :\n",
        "INPUT\n",
        "jack and jill went up and down to get water\n",
        "OUTPUT\n",
        "jill and jack went down and up to get water\"\"\""
      ],
      "metadata": {
        "id": "spfxtcP-XW9W"
      },
      "execution_count": null,
      "outputs": []
    },
    {
      "cell_type": "markdown",
      "source": [
        "# **Data structures codekata**"
      ],
      "metadata": {
        "id": "jw51de4uy0Ud"
      }
    },
    {
      "cell_type": "code",
      "source": [
        "# Task 1\n",
        "\"\"\"Given 2 numbers a and B.Print the value of a!/b!.\n",
        "Input Size : A,B <= 10000 and A-B <= 5\n",
        "Sample Testcase :\n",
        "INPUT\n",
        "4 2\n",
        "OUTPUT\n",
        "12\"\"\"\n",
        "\n",
        "import math\n",
        "a, b = map(int, input().split())\n",
        "output = math.factorial(a)/math.factorial(b)\n",
        "print(int(output))\n"
      ],
      "metadata": {
        "colab": {
          "base_uri": "https://localhost:8080/"
        },
        "id": "OrC62Dwny863",
        "outputId": "542b04db-dc84-4ac3-a19c-0b6f9acdda82"
      },
      "execution_count": null,
      "outputs": [
        {
          "output_type": "stream",
          "name": "stdout",
          "text": [
            "4 2\n",
            "12.0\n"
          ]
        }
      ]
    }
  ]
}